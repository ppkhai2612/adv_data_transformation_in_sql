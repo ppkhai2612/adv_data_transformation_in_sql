{
 "cells": [
  {
   "cell_type": "markdown",
   "id": "2b315679-3113-427b-a911-75c225cd8a2a",
   "metadata": {},
   "source": [
    "### Code for the blog **[How to use nested data types effectively in SQL](https://www.startdataengineering.com/post/use-structs-sql/)**"
   ]
  },
  {
   "cell_type": "markdown",
   "id": "7f4fded1-5f6f-439d-a2ce-f59abf2ff43a",
   "metadata": {},
   "source": [
    "# [SETUP] "
   ]
  },
  {
   "cell_type": "code",
   "execution_count": 2,
   "id": "118da67e-aa4e-45f3-9ca7-b66cd237fde1",
   "metadata": {},
   "outputs": [
    {
     "name": "stdout",
     "output_type": "stream",
     "text": [
      "Cleaning up (if any existing) tpch db file tpch.db\n",
      "Creating TPCH input data at tpch.db\n"
     ]
    }
   ],
   "source": [
    "! python ./setup.py"
   ]
  },
  {
   "cell_type": "markdown",
   "id": "dbcfd5db-87dc-4629-9c25-dd5d9ee8e48c",
   "metadata": {},
   "source": [
    "## Connect to DuckDB"
   ]
  },
  {
   "cell_type": "code",
   "execution_count": 3,
   "id": "38db11b5-5d42-4105-b021-e6a66ec00fcd",
   "metadata": {},
   "outputs": [
    {
     "name": "stdout",
     "output_type": "stream",
     "text": [
      "The sql extension is already loaded. To reload it, use:\n",
      "  %reload_ext sql\n"
     ]
    }
   ],
   "source": [
    "import duckdb\n",
    "import pandas as pd\n",
    "\n",
    "%load_ext sql\n",
    "conn = duckdb.connect(\"tpch.db\")\n",
    "%sql conn --alias duckdb"
   ]
  },
  {
   "cell_type": "code",
   "execution_count": 17,
   "id": "e7b0cd41-ae3a-48be-90a8-4864bc8695f3",
   "metadata": {},
   "outputs": [
    {
     "data": {
      "text/html": [
       "<span style=\"None\">Running query in &#x27;duckdb&#x27;</span>"
      ],
      "text/plain": [
       "Running query in 'duckdb'"
      ]
     },
     "metadata": {},
     "output_type": "display_data"
    },
    {
     "data": {
      "text/html": [
       "<table>\n",
       "    <thead>\n",
       "        <tr>\n",
       "            <th>name</th>\n",
       "        </tr>\n",
       "    </thead>\n",
       "    <tbody>\n",
       "        <tr>\n",
       "            <td>customer</td>\n",
       "        </tr>\n",
       "        <tr>\n",
       "            <td>lineitem</td>\n",
       "        </tr>\n",
       "        <tr>\n",
       "            <td>nation</td>\n",
       "        </tr>\n",
       "        <tr>\n",
       "            <td>orders</td>\n",
       "        </tr>\n",
       "        <tr>\n",
       "            <td>part</td>\n",
       "        </tr>\n",
       "        <tr>\n",
       "            <td>partsupp</td>\n",
       "        </tr>\n",
       "        <tr>\n",
       "            <td>region</td>\n",
       "        </tr>\n",
       "        <tr>\n",
       "            <td>supplier</td>\n",
       "        </tr>\n",
       "        <tr>\n",
       "            <td>wide_orders</td>\n",
       "        </tr>\n",
       "    </tbody>\n",
       "</table>"
      ],
      "text/plain": [
       "+-------------+\n",
       "|     name    |\n",
       "+-------------+\n",
       "|   customer  |\n",
       "|   lineitem  |\n",
       "|    nation   |\n",
       "|    orders   |\n",
       "|     part    |\n",
       "|   partsupp  |\n",
       "|    region   |\n",
       "|   supplier  |\n",
       "| wide_orders |\n",
       "+-------------+"
      ]
     },
     "execution_count": 17,
     "metadata": {},
     "output_type": "execute_result"
    }
   ],
   "source": [
    "%%sql\n",
    "show tables;"
   ]
  },
  {
   "cell_type": "markdown",
   "id": "9bfae6b7-11f9-4c06-84ca-d8964cc03640",
   "metadata": {},
   "source": [
    "# [Data Model]\n",
    "\n",
    "The TPC-H data represents a car parts seller’s data warehouse, where we record orders, items that make up that order (lineitem), supplier, customer, part (parts sold), region, nation, and partsupp (parts supplier). \n",
    "\n",
    "Note: Have a copy of the data model as you follow along; this will help in understanding the examples provided and in answering exercise questions.\n",
    "\n",
    "![](../../tpch_erd.png)\n"
   ]
  },
  {
   "cell_type": "markdown",
   "id": "95c802a9-9568-4684-b2e5-939025aef734",
   "metadata": {},
   "source": [
    "# Using nested data types effectively"
   ]
  },
  {
   "cell_type": "markdown",
   "id": "7bb51b45-5110-47b5-852b-b91238161f0c",
   "metadata": {},
   "source": [
    "##  Use STRUCT for one-to-one & hierarchical relationships"
   ]
  },
  {
   "cell_type": "code",
   "execution_count": null,
   "id": "a6f5c7bc-163a-46c1-abf7-44f989fd9ce4",
   "metadata": {},
   "outputs": [],
   "source": [
    "%%sql\n",
    "-- without nested data type\n",
    "SELECT l.*,\n",
    "c.*,\n",
    "s.*\n",
    "FROM \n",
    "    lineitem l\n",
    "LEFT JOIN \n",
    "    orders o ON l.l_orderkey = o.o_orderkey\n",
    "LEFT JOIN \n",
    "    customer c ON o.o_custkey = c.c_custkey\n",
    "LEFT JOIN \n",
    "    supplier s ON l.l_suppkey = s.s_suppkey\n",
    "LIMIT 5;"
   ]
  },
  {
   "cell_type": "markdown",
   "id": "a82b575b-28bf-45e9-bce2-5282d1a17982",
   "metadata": {},
   "source": [
    "![Cols to struct](./images/col-struct.png)"
   ]
  },
  {
   "cell_type": "code",
   "execution_count": null,
   "id": "dcec6c15-53be-4c15-ad18-f76f4367624c",
   "metadata": {},
   "outputs": [],
   "source": [
    "%%sql\n",
    "-- with nested data types\n",
    "SELECT \n",
    "    l.*, \n",
    "    struct_pack(\n",
    "        id := c.c_custkey,\n",
    "        name := c.c_name,\n",
    "        address := c.c_address,\n",
    "        nationkey := c.c_nationkey,\n",
    "        phone := c.c_phone,\n",
    "        acctbal := c.c_acctbal,\n",
    "        mktsegment := c.c_mktsegment,\n",
    "        comment := c.c_comment\n",
    "    ) AS customer,\n",
    "    struct_pack(\n",
    "        id := s.s_suppkey,\n",
    "        name := s.s_name,\n",
    "        address := s.s_address,\n",
    "        nationkey := s.s_nationkey,\n",
    "        phone := s.s_phone,\n",
    "        acctbal := s.s_acctbal,\n",
    "        comment := s.s_comment\n",
    "    ) AS supplier\n",
    "FROM \n",
    "    lineitem l\n",
    "LEFT JOIN \n",
    "    orders o ON l.l_orderkey = o.o_orderkey\n",
    "LEFT JOIN \n",
    "    customer c ON o.o_custkey = c.c_custkey\n",
    "LEFT JOIN \n",
    "    supplier s ON l.l_suppkey = s.s_suppkey\n",
    "LIMIT 5;"
   ]
  },
  {
   "cell_type": "code",
   "execution_count": null,
   "id": "aa7f083f-3d9d-4c29-8c13-822a3ef3a2d8",
   "metadata": {
    "scrolled": true
   },
   "outputs": [],
   "source": [
    "%%sql\n",
    "-- Hierarchical data \n",
    "SELECT \n",
    "    l.*, \n",
    "    struct_pack(\n",
    "        id := c.c_custkey,\n",
    "        name := c.c_name,\n",
    "        address := c.c_address,\n",
    "        nationkey := c.c_nationkey,\n",
    "        phone := c.c_phone,\n",
    "        acctbal := c.c_acctbal,\n",
    "        mktsegment := c.c_mktsegment,\n",
    "        comment := c.c_comment,\n",
    "        nation := struct_pack(\n",
    "            nationkey := n.n_nationkey,\n",
    "            name := n.n_name,\n",
    "            regionkey := n.n_regionkey,\n",
    "            comment := n.n_comment\n",
    "        )\n",
    "    ) AS customer,\n",
    "    struct_pack(\n",
    "        id := s.s_suppkey,\n",
    "        name := s.s_name,\n",
    "        address := s.s_address,\n",
    "        nationkey := s.s_nationkey,\n",
    "        phone := s.s_phone,\n",
    "        acctbal := s.s_acctbal,\n",
    "        comment := s.s_comment,\n",
    "        nation := struct_pack(\n",
    "            nationkey := sn.n_nationkey,\n",
    "            name := sn.n_name,\n",
    "            regionkey := sn.n_regionkey,\n",
    "            comment := sn.n_comment\n",
    "            )\n",
    "    ) AS supplier\n",
    "FROM \n",
    "    lineitem l\n",
    "LEFT JOIN \n",
    "    orders o ON l.l_orderkey = o.o_orderkey\n",
    "LEFT JOIN \n",
    "    customer c ON o.o_custkey = c.c_custkey\n",
    "LEFT JOIN\n",
    "    nation n ON c.c_nationkey = n.n_nationkey\n",
    "LEFT JOIN \n",
    "    supplier s ON l.l_suppkey = s.s_suppkey\n",
    "LEFT JOIN\n",
    "    nation sn ON s.s_nationkey = sn.n_nationkey\n",
    "LIMIT 5;"
   ]
  },
  {
   "cell_type": "code",
   "execution_count": null,
   "id": "c7f8ab0f-e858-4a9e-888b-b9b1835db26f",
   "metadata": {},
   "outputs": [],
   "source": [
    "%%sql\n",
    "# exercise, to the above query add region attributes\n",
    "SELECT l.*,\n",
    "    struct_pack(\n",
    "        id := c.c_custkey,\n",
    "        name := c.c_name,\n",
    "        address := c.c_address,\n",
    "        nationkey := c.c_nationkey,\n",
    "        phone := c.c_phone,\n",
    "        acctbal := c.c_acctbal,\n",
    "        mktsegment := c.c_mktsegment,\n",
    "        comment := c.c_comment,\n",
    "        nation := struct_pack(\n",
    "            nationkey := n.n_nationkey,\n",
    "            name := n.n_name,\n",
    "            regionkey := n.n_regionkey,\n",
    "            comment := n.n_comment,\n",
    "            region := struct_pack(\n",
    "                regionkey := r.r_regionkey,\n",
    "                name := r.r_name,\n",
    "                comment := r.r_comment\n",
    "            )\n",
    "        )\n",
    "    ) AS customer,\n",
    "    struct_pack(\n",
    "        id := s.s_suppkey,\n",
    "        name := s.s_name,\n",
    "        address := s.s_address,\n",
    "        nationkey := s.s_nationkey,\n",
    "        phone := s.s_phone,\n",
    "        acctbal := s.s_acctbal,\n",
    "        comment := s.s_comment,\n",
    "        nation := struct_pack(\n",
    "            nationkey := sn.n_nationkey,\n",
    "            name := sn.n_name,\n",
    "            regionkey := sn.n_regionkey,\n",
    "            comment := sn.n_comment,\n",
    "            region := struct_pack(\n",
    "                regionkey := sr.r_regionkey,\n",
    "                name := sr.r_name,\n",
    "                comment := sr.r_comment\n",
    "            )\n",
    "        )\n",
    "    ) AS supplier\n",
    "FROM \n",
    "    lineitem l\n",
    "LEFT JOIN \n",
    "    orders o ON l.l_orderkey = o.o_orderkey\n",
    "LEFT JOIN \n",
    "    customer c ON o.o_custkey = c.c_custkey\n",
    "LEFT JOIN\n",
    "    nation n ON c.c_nationkey = n.n_nationkey\n",
    "LEFT JOIN\n",
    "    region r ON n.n_regionkey = r.r_regionkey\n",
    "LEFT JOIN \n",
    "    supplier s ON l.l_suppkey = s.s_suppkey\n",
    "LEFT JOIN\n",
    "    nation sn ON s.s_nationkey = sn.n_nationkey\n",
    "LEFT JOIN\n",
    "    region sr ON sn.n_regionkey = sr.r_regionkey\n",
    "LIMIT 5;"
   ]
  },
  {
   "cell_type": "markdown",
   "id": "0471c59f-ff20-4259-8d56-9cbb34f24a1e",
   "metadata": {},
   "source": [
    "## Use ARRAY[STRUCT] for one-to-many relationships"
   ]
  },
  {
   "cell_type": "markdown",
   "id": "b443a2b1-bcb7-4090-9e9d-5e070340f017",
   "metadata": {},
   "source": [
    "![Rows to List](./images/row-list.png)"
   ]
  },
  {
   "cell_type": "code",
   "execution_count": null,
   "id": "cfa74425-6971-4e59-ba0e-99d0f7e17624",
   "metadata": {},
   "outputs": [],
   "source": [
    "%%sql\n",
    "WITH line_items as (\n",
    "SELECT \n",
    "    l_orderkey as orderkey,\n",
    "    array_agg(struct_pack(\n",
    "        lineitemkey := l.l_linenumber,\n",
    "        partkey := l.l_partkey,\n",
    "        suppkey := l.l_suppkey,\n",
    "        quantity := l.l_quantity,\n",
    "        extendedprice := l.l_extendedprice,\n",
    "        discount := l.l_discount,\n",
    "        tax := l.l_tax,\n",
    "        returnflag := l.l_returnflag,\n",
    "        linestatus := l.l_linestatus,\n",
    "        shipdate := l.l_shipdate,\n",
    "        commitdate := l.l_commitdate,\n",
    "        receiptdate := l.l_receiptdate,\n",
    "        shipinstruct := l.l_shipinstruct,\n",
    "        shipmode := l.l_shipmode,\n",
    "        comment := l.l_comment\n",
    "    )) AS lineitems\n",
    "FROM \n",
    "    lineitem l \n",
    "GROUP BY \n",
    "    l_orderkey)\n",
    "SELECT o.*,\n",
    "    LENGTH(l.lineitems) as num_lineitems, -- count number of elements in array\n",
    "    l.lineitems\n",
    "FROM orders o\n",
    "LEFT JOIN line_items l\n",
    "    ON o.o_orderkey = l.orderkey\n",
    "LIMIT 5;"
   ]
  },
  {
   "cell_type": "markdown",
   "id": "ed107ee9-08e9-4fc8-b946-3bb2bc262b14",
   "metadata": {},
   "source": [
    "## Using nested data types in data processing"
   ]
  },
  {
   "cell_type": "code",
   "execution_count": 5,
   "id": "82a9df96-b738-422b-a747-eafa2ae6c4a1",
   "metadata": {},
   "outputs": [
    {
     "data": {
      "text/html": [
       "<span style=\"None\">Running query in &#x27;duckdb&#x27;</span>"
      ],
      "text/plain": [
       "Running query in 'duckdb'"
      ]
     },
     "metadata": {},
     "output_type": "display_data"
    },
    {
     "data": {
      "text/html": [
       "<table>\n",
       "    <thead>\n",
       "        <tr>\n",
       "            <th>Success</th>\n",
       "        </tr>\n",
       "    </thead>\n",
       "    <tbody>\n",
       "    </tbody>\n",
       "</table>"
      ],
      "text/plain": [
       "+---------+\n",
       "| Success |\n",
       "+---------+\n",
       "+---------+"
      ]
     },
     "execution_count": 5,
     "metadata": {},
     "output_type": "execute_result"
    }
   ],
   "source": [
    "%%sql\n",
    "DROP TABLE IF EXISTS wide_orders;"
   ]
  },
  {
   "cell_type": "code",
   "execution_count": 6,
   "id": "0c43ecc5-872b-4ad3-a095-7a8273e31ef2",
   "metadata": {},
   "outputs": [
    {
     "data": {
      "text/html": [
       "<span style=\"None\">Running query in &#x27;duckdb&#x27;</span>"
      ],
      "text/plain": [
       "Running query in 'duckdb'"
      ]
     },
     "metadata": {},
     "output_type": "display_data"
    },
    {
     "data": {
      "text/html": [
       "<table>\n",
       "    <thead>\n",
       "        <tr>\n",
       "            <th>Count</th>\n",
       "        </tr>\n",
       "    </thead>\n",
       "    <tbody>\n",
       "        <tr>\n",
       "            <td>15000</td>\n",
       "        </tr>\n",
       "    </tbody>\n",
       "</table>"
      ],
      "text/plain": [
       "+-------+\n",
       "| Count |\n",
       "+-------+\n",
       "| 15000 |\n",
       "+-------+"
      ]
     },
     "execution_count": 6,
     "metadata": {},
     "output_type": "execute_result"
    }
   ],
   "source": [
    "%%sql\n",
    "CREATE TABLE IF NOT EXISTS wide_orders AS \n",
    "WITH line_items as (\n",
    "SELECT \n",
    "    l_orderkey as orderkey,\n",
    "    array_agg(struct_pack(\n",
    "        lineitemkey := l.l_linenumber,\n",
    "        partkey := l.l_partkey,\n",
    "        suppkey := l.l_suppkey,\n",
    "        quantity := l.l_quantity,\n",
    "        extendedprice := l.l_extendedprice,\n",
    "        discount := l.l_discount,\n",
    "        tax := l.l_tax,\n",
    "        returnflag := l.l_returnflag,\n",
    "        linestatus := l.l_linestatus,\n",
    "        shipdate := l.l_shipdate,\n",
    "        commitdate := l.l_commitdate,\n",
    "        receiptdate := l.l_receiptdate,\n",
    "        shipinstruct := l.l_shipinstruct,\n",
    "        shipmode := l.l_shipmode,\n",
    "        comment := l.l_comment\n",
    "    )) AS lineitems\n",
    "FROM \n",
    "    lineitem l \n",
    "GROUP BY \n",
    "    l_orderkey)\n",
    "SELECT \n",
    "    o.*,\n",
    "    l.lineitems,\n",
    "    struct_pack(\n",
    "        id := c.c_custkey,\n",
    "        name := c.c_name,\n",
    "        address := c.c_address,\n",
    "        nationkey := c.c_nationkey,\n",
    "        phone := c.c_phone,\n",
    "        acctbal := c.c_acctbal,\n",
    "        mktsegment := c.c_mktsegment,\n",
    "        comment := c.c_comment,\n",
    "        nation := struct_pack(\n",
    "            nationkey := n.n_nationkey,\n",
    "            name := n.n_name,\n",
    "            regionkey := n.n_regionkey,\n",
    "            comment := n.n_comment\n",
    "        )\n",
    "    ) AS customer\n",
    "FROM \n",
    "    orders o\n",
    "LEFT JOIN \n",
    "    line_items l ON o.o_orderkey = l.orderkey\n",
    "LEFT JOIN \n",
    "    customer c ON o.o_custkey = c.c_custkey\n",
    "LEFT JOIN\n",
    "    nation n ON c.c_nationkey = n.n_nationkey;"
   ]
  },
  {
   "cell_type": "markdown",
   "id": "098e0d98-8e15-4e21-be09-7dd6154cf647",
   "metadata": {},
   "source": [
    "### STRUCT enables more straightforward data schema and data access"
   ]
  },
  {
   "cell_type": "code",
   "execution_count": null,
   "id": "246d1f32-1407-481d-9da1-b4cfafd9d28d",
   "metadata": {},
   "outputs": [],
   "source": [
    "%%sql\n",
    "SELECT o_orderkey,\n",
    "    customer.name,\n",
    "    customer.address,\n",
    "    lineitems[1] as first_lineitem\n",
    "FROM wide_orders\n",
    "limit 2;"
   ]
  },
  {
   "cell_type": "markdown",
   "id": "eeb47130-893d-4f2e-bc6c-3065357ff53c",
   "metadata": {},
   "source": [
    "### Nested data types can be sorted\n",
    "\n"
   ]
  },
  {
   "cell_type": "code",
   "execution_count": null,
   "id": "957a199e-4efb-4594-a16a-5be21b8d7090",
   "metadata": {},
   "outputs": [],
   "source": [
    "%%sql\n",
    "SELECT customer\n",
    "FROM wide_orders \n",
    "GROUP BY 1\n",
    "ORDER BY 1\n",
    "LIMIT 5"
   ]
  },
  {
   "cell_type": "code",
   "execution_count": null,
   "id": "e87b0439-16cc-46af-963b-28902a8bca53",
   "metadata": {},
   "outputs": [],
   "source": [
    "%%sql\n",
    "# exercise: Sort ARRAY of lineitems, how is it sorted? What do you think is the sort order based on?\n",
    "SELECT *, \n",
    "    array_sort(lineitems) AS sorted_lineitems\n",
    "FROM wide_orders\n",
    "LIMIT 5;"
   ]
  },
  {
   "cell_type": "markdown",
   "id": "4a6f022d-a197-446c-8747-ef5d29c8a0ab",
   "metadata": {},
   "source": [
    "### UNNEST ARRAY to rows and GROUP rows to ARRAY"
   ]
  },
  {
   "cell_type": "code",
   "execution_count": 12,
   "id": "7b00d1b2-378d-4ac0-9863-dc3ebef95d98",
   "metadata": {},
   "outputs": [
    {
     "data": {
      "text/html": [
       "<span style=\"None\">Running query in &#x27;duckdb&#x27;</span>"
      ],
      "text/plain": [
       "Running query in 'duckdb'"
      ]
     },
     "metadata": {},
     "output_type": "display_data"
    },
    {
     "data": {
      "text/html": [
       "<table>\n",
       "    <thead>\n",
       "        <tr>\n",
       "            <th>o_orderkey</th>\n",
       "            <th>lineitems</th>\n",
       "        </tr>\n",
       "    </thead>\n",
       "    <tbody>\n",
       "        <tr>\n",
       "            <td>2</td>\n",
       "            <td>[{'line_item_key': 1, 'part_key': 1062, 'quantity': Decimal('38.00')}]</td>\n",
       "        </tr>\n",
       "        <tr>\n",
       "            <td>4</td>\n",
       "            <td>[{'line_item_key': 1, 'part_key': 881, 'quantity': Decimal('30.00')}]</td>\n",
       "        </tr>\n",
       "        <tr>\n",
       "            <td>7</td>\n",
       "            <td>[{'line_item_key': 1, 'part_key': 1821, 'quantity': Decimal('12.00')}, {'line_item_key': 2, 'part_key': 1453, 'quantity': Decimal('9.00')}, {'line_item_key': 3, 'part_key': 948, 'quantity': Decimal('46.00')}, {'line_item_key': 4, 'part_key': 1631, 'quantity': Decimal('28.00')}, {'line_item_key': 5, 'part_key': 1519, 'quantity': Decimal('38.00')}, {'line_item_key': 6, 'part_key': 793, 'quantity': Decimal('35.00')}, {'line_item_key': 7, 'part_key': 1573, 'quantity': Decimal('5.00')}]</td>\n",
       "        </tr>\n",
       "        <tr>\n",
       "            <td>34</td>\n",
       "            <td>[{'line_item_key': 1, 'part_key': 884, 'quantity': Decimal('13.00')}, {'line_item_key': 2, 'part_key': 895, 'quantity': Decimal('22.00')}, {'line_item_key': 3, 'part_key': 1696, 'quantity': Decimal('6.00')}]</td>\n",
       "        </tr>\n",
       "        <tr>\n",
       "            <td>37</td>\n",
       "            <td>[{'line_item_key': 1, 'part_key': 227, 'quantity': Decimal('40.00')}, {'line_item_key': 2, 'part_key': 1268, 'quantity': Decimal('39.00')}, {'line_item_key': 3, 'part_key': 130, 'quantity': Decimal('43.00')}]</td>\n",
       "        </tr>\n",
       "    </tbody>\n",
       "</table>"
      ],
      "text/plain": [
       "+------------+--------------------------------------------------------------------------------------------------------------------------------------------------------------------------------------------------------------------------------------------------------------------------------------------------------------------------------------------------------------------------------------------------------------------------------------------------------------------------------------------------------+\n",
       "| o_orderkey |                                                                                                                                                                                                                                               lineitems                                                                                                                                                                                                                                                |\n",
       "+------------+--------------------------------------------------------------------------------------------------------------------------------------------------------------------------------------------------------------------------------------------------------------------------------------------------------------------------------------------------------------------------------------------------------------------------------------------------------------------------------------------------------+\n",
       "|     2      |                                                                                                                                                                                                                 [{'line_item_key': 1, 'part_key': 1062, 'quantity': Decimal('38.00')}]                                                                                                                                                                                                                 |\n",
       "|     4      |                                                                                                                                                                                                                 [{'line_item_key': 1, 'part_key': 881, 'quantity': Decimal('30.00')}]                                                                                                                                                                                                                  |\n",
       "|     7      | [{'line_item_key': 1, 'part_key': 1821, 'quantity': Decimal('12.00')}, {'line_item_key': 2, 'part_key': 1453, 'quantity': Decimal('9.00')}, {'line_item_key': 3, 'part_key': 948, 'quantity': Decimal('46.00')}, {'line_item_key': 4, 'part_key': 1631, 'quantity': Decimal('28.00')}, {'line_item_key': 5, 'part_key': 1519, 'quantity': Decimal('38.00')}, {'line_item_key': 6, 'part_key': 793, 'quantity': Decimal('35.00')}, {'line_item_key': 7, 'part_key': 1573, 'quantity': Decimal('5.00')}] |\n",
       "|     34     |                                                                                                                                            [{'line_item_key': 1, 'part_key': 884, 'quantity': Decimal('13.00')}, {'line_item_key': 2, 'part_key': 895, 'quantity': Decimal('22.00')}, {'line_item_key': 3, 'part_key': 1696, 'quantity': Decimal('6.00')}]                                                                                                                                             |\n",
       "|     37     |                                                                                                                                            [{'line_item_key': 1, 'part_key': 227, 'quantity': Decimal('40.00')}, {'line_item_key': 2, 'part_key': 1268, 'quantity': Decimal('39.00')}, {'line_item_key': 3, 'part_key': 130, 'quantity': Decimal('43.00')}]                                                                                                                                            |\n",
       "+------------+--------------------------------------------------------------------------------------------------------------------------------------------------------------------------------------------------------------------------------------------------------------------------------------------------------------------------------------------------------------------------------------------------------------------------------------------------------------------------------------------------------+"
      ]
     },
     "execution_count": 12,
     "metadata": {},
     "output_type": "execute_result"
    }
   ],
   "source": [
    "%%sql\n",
    "-- rows to ARRAY\n",
    "WITH lineitems as (SELECT \n",
    "    o.o_orderkey,\n",
    "    UNNEST(o.lineitems) as line_item\n",
    "FROM \n",
    "    wide_orders o),\n",
    "unnested_line_items AS (\n",
    "SELECT o_orderkey,\n",
    "    line_item.lineitemkey,\n",
    "    line_item.partkey,\n",
    "    line_item.quantity\n",
    "    FROM lineitems\n",
    ")\n",
    "SELECT o_orderkey,\n",
    "array_agg(struct_pack(\n",
    "        line_item_key := lineitemkey,\n",
    "        part_key := partkey,\n",
    "        quantity := quantity)) as lineitems\n",
    "FROM unnested_line_items\n",
    "GROUP BY 1\n",
    "LIMIT 5;"
   ]
  },
  {
   "cell_type": "code",
   "execution_count": 11,
   "id": "c92cc811-dc93-43fd-ad53-11d8bfad4265",
   "metadata": {},
   "outputs": [
    {
     "data": {
      "text/html": [
       "<span style=\"None\">Running query in &#x27;duckdb&#x27;</span>"
      ],
      "text/plain": [
       "Running query in 'duckdb'"
      ]
     },
     "metadata": {},
     "output_type": "display_data"
    },
    {
     "data": {
      "text/html": [
       "<table>\n",
       "    <thead>\n",
       "        <tr>\n",
       "            <th>o_orderkey</th>\n",
       "            <th>lineitemkey</th>\n",
       "            <th>partkey</th>\n",
       "            <th>quantity</th>\n",
       "        </tr>\n",
       "    </thead>\n",
       "    <tbody>\n",
       "        <tr>\n",
       "            <td>1</td>\n",
       "            <td>1</td>\n",
       "            <td>1552</td>\n",
       "            <td>17.00</td>\n",
       "        </tr>\n",
       "        <tr>\n",
       "            <td>1</td>\n",
       "            <td>2</td>\n",
       "            <td>674</td>\n",
       "            <td>36.00</td>\n",
       "        </tr>\n",
       "        <tr>\n",
       "            <td>1</td>\n",
       "            <td>3</td>\n",
       "            <td>637</td>\n",
       "            <td>8.00</td>\n",
       "        </tr>\n",
       "        <tr>\n",
       "            <td>1</td>\n",
       "            <td>4</td>\n",
       "            <td>22</td>\n",
       "            <td>28.00</td>\n",
       "        </tr>\n",
       "        <tr>\n",
       "            <td>1</td>\n",
       "            <td>5</td>\n",
       "            <td>241</td>\n",
       "            <td>24.00</td>\n",
       "        </tr>\n",
       "    </tbody>\n",
       "</table>"
      ],
      "text/plain": [
       "+------------+-------------+---------+----------+\n",
       "| o_orderkey | lineitemkey | partkey | quantity |\n",
       "+------------+-------------+---------+----------+\n",
       "|     1      |      1      |   1552  |  17.00   |\n",
       "|     1      |      2      |   674   |  36.00   |\n",
       "|     1      |      3      |   637   |   8.00   |\n",
       "|     1      |      4      |    22   |  28.00   |\n",
       "|     1      |      5      |   241   |  24.00   |\n",
       "+------------+-------------+---------+----------+"
      ]
     },
     "execution_count": 11,
     "metadata": {},
     "output_type": "execute_result"
    }
   ],
   "source": [
    "%%sql\n",
    "-- ARRAY to rows\n",
    "WITH lineitems AS (\n",
    "    SELECT\n",
    "      o.o_orderkey,\n",
    "      UNNEST (o.lineitems) AS line_item\n",
    "    FROM\n",
    "      wide_orders o\n",
    ")\n",
    "SELECT\n",
    "  o_orderkey,\n",
    "  line_item.lineitemkey,\n",
    "  line_item.partkey,\n",
    "  line_item.quantity\n",
    "FROM\n",
    "  lineitems\n",
    "LIMIT\n",
    "  5"
   ]
  },
  {
   "cell_type": "markdown",
   "id": "052ed6c1-7abf-43b8-829d-b08273916948",
   "metadata": {},
   "source": [
    "### Improve OBT usability with nested data types"
   ]
  },
  {
   "cell_type": "markdown",
   "id": "c2605a40-52de-4a12-a119-9710badb540d",
   "metadata": {},
   "source": [
    "![Nested OBT to pre aggregate](./images/nested-preagg.png)"
   ]
  },
  {
   "cell_type": "code",
   "execution_count": null,
   "id": "5cafeba4",
   "metadata": {},
   "outputs": [],
   "source": [
    "%%sql\n",
    "select *\n",
    "FROM wide_orders\n",
    "limit 1"
   ]
  },
  {
   "cell_type": "code",
   "execution_count": null,
   "id": "b045f72f-b5d6-454f-9dc2-70e464453bdc",
   "metadata": {},
   "outputs": [],
   "source": [
    "%%sql\n",
    "-- get lineitem metrics, with array aggregation functions (specific to DuckDB)\n",
    "SELECT o_orderkey,\n",
    "    o_totalprice AS order_total_price,\n",
    "    len(lineitems) as num_line_items,\n",
    "    array_reduce(array_transform(lineitems, x -> x.quantity), (x, y) -> x + y) as total_line_item_quantity\n",
    "    -- array_transform take only quantity field of each element of array\n",
    "FROM wide_orders\n",
    "ORDER BY\n",
    "  1\n",
    "LIMIT\n",
    "  10;"
   ]
  },
  {
   "cell_type": "code",
   "execution_count": null,
   "id": "424ac53f-5a00-4eae-9322-6e9e91ab80e9",
   "metadata": {},
   "outputs": [],
   "source": [
    "%%sql\n",
    "-- Get order metrics\n",
    "SELECT\n",
    "  o_orderdate,\n",
    "  SUM(o_totalprice) AS order_total_price\n",
    "FROM\n",
    "  wide_orders\n",
    "GROUP BY 1\n",
    "ORDER BY 1\n",
    "LIMIT 5;"
   ]
  },
  {
   "cell_type": "code",
   "execution_count": null,
   "id": "1c054c36-51dc-46a2-8c6b-b573ec0308c8",
   "metadata": {},
   "outputs": [],
   "source": [
    "%%sql\n",
    "-- get lineitem metrics\n",
    "WITH\n",
    "  lineitems AS (\n",
    "    SELECT\n",
    "      o.o_orderkey,\n",
    "      UNNEST (o.lineitems) AS line_item\n",
    "    FROM\n",
    "      wide_orders o\n",
    "  )\n",
    "SELECT\n",
    "  o_orderkey,\n",
    "  COUNT(line_item.lineitemkey) AS num_line_items,\n",
    "  SUM(line_item.quantity) AS total_line_item_quantity\n",
    "FROM\n",
    "  lineitems\n",
    "GROUP BY\n",
    "  1\n",
    "ORDER BY\n",
    "  1\n",
    "LIMIT\n",
    "  10;"
   ]
  },
  {
   "cell_type": "code",
   "execution_count": null,
   "id": "9f83d789-4938-4e25-8645-d49a97fd9516",
   "metadata": {},
   "outputs": [],
   "source": [
    "# exercise: create a wide_orders_v2 table that combines all the tables in the TPCH data model\n"
   ]
  },
  {
   "cell_type": "markdown",
   "id": "1d4da25e-b8df-4785-94d2-9c02e2c7e483",
   "metadata": {},
   "source": [
    "## Ensure your performance meets your expectations"
   ]
  },
  {
   "cell_type": "code",
   "execution_count": null,
   "id": "9b364f22-23df-4d67-b833-fac08ba1464f",
   "metadata": {},
   "outputs": [],
   "source": [
    "# unnest is an expensive opeation\n",
    "result = %sql EXPLAIN WITH lineitems AS ( SELECT o.o_orderkey, UNNEST (o.lineitems) AS line_item FROM wide_orders o ) SELECT o_orderkey, COUNT(line_item.lineitemkey) AS num_line_items, SUM(line_item.quantity) AS total_line_item_quantity FROM lineitems GROUP BY 1 ORDER BY 1\n",
    "print(result)"
   ]
  },
  {
   "cell_type": "code",
   "execution_count": null,
   "id": "ae420453",
   "metadata": {},
   "outputs": [],
   "source": [
    "result = %sql EXPLAIN SELECT o_orderkey, o_totalprice AS order_total_price, len(lineitems) as num_line_items, array_reduce(array_transform(lineitems, x -> x.quantity), (x, y) -> x + y) as total_line_item_quantity FROM wide_orders ORDER BY 1 LIMIT 10;\n",
    "print(result)"
   ]
  }
 ],
 "metadata": {
  "kernelspec": {
   "display_name": "Python 3",
   "language": "python",
   "name": "python3"
  },
  "language_info": {
   "codemirror_mode": {
    "name": "ipython",
    "version": 3
   },
   "file_extension": ".py",
   "mimetype": "text/x-python",
   "name": "python",
   "nbconvert_exporter": "python",
   "pygments_lexer": "ipython3",
   "version": "3.12.1"
  }
 },
 "nbformat": 4,
 "nbformat_minor": 5
}
